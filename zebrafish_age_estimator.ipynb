{
 "cells": [
  {
   "cell_type": "code",
   "execution_count": null,
   "id": "2e641f3f",
   "metadata": {},
   "outputs": [],
   "source": [
    "import os\n",
    "\n",
    "import matplotlib.pyplot as plt\n",
    "import numpy as np\n",
    "import tensorflow as tf\n",
    "from tensorflow import keras\n",
    "\n",
    "image_size = (224, 268)\n",
    "cropped_image_size = (224, 224)\n",
    "batch_size = 32\n",
    "buffer_size = 4\n",
    "test_path = './test_data'\n",
    "\n",
    "def parse_image(filename):\n",
    "    parts = tf.strings.split(filename, os.sep)\n",
    "    label = float(parts[-2])\n",
    "    image = tf.io.read_file(filename)\n",
    "    image = tf.image.decode_png(image)\n",
    "    image = tf.image.resize(image, image_size)\n",
    "    return image, label\n",
    "\n",
    "test_list_ds = tf.data.Dataset.list_files(str(test_path + os.sep + \"*\" + os.sep + \"*.png\")).shuffle(1000)\n",
    "test_ds = test_list_ds.map(parse_image).batch(batch_size)\n",
    "test_ds = test_ds.prefetch(buffer_size=buffer_size).cache()\n",
    "\n",
    "model = keras.models.load_model('./simple_regression_trained_model')\n",
    "\n",
    "model.summary()"
   ]
  },
  {
   "cell_type": "code",
   "execution_count": null,
   "id": "715da937",
   "metadata": {},
   "outputs": [],
   "source": [
    "%matplotlib inline\n",
    "\n",
    "plt.figure(num=3, figsize=(20, 17))\n",
    "for images, labels in test_ds.take(1):\n",
    "    for i in range(25):\n",
    "        ax = plt.subplot(5, 5, i + 1)\n",
    "        plt.imshow(images[i].numpy().astype(\"uint8\"), cmap='gray')\n",
    "        plt.title(labels[i].numpy())\n",
    "        plt.axis(\"off\")\n",
    "plt.show()"
   ]
  },
  {
   "cell_type": "code",
   "execution_count": null,
   "id": "183dc258",
   "metadata": {},
   "outputs": [],
   "source": [
    "score = model.evaluate(test_ds, verbose=1)\n",
    "print(\"Test loss:\", score)"
   ]
  },
  {
   "cell_type": "code",
   "execution_count": null,
   "id": "493b4630",
   "metadata": {},
   "outputs": [],
   "source": [
    "labels = np.array([])\n",
    "predictions = np.array([])\n",
    "for x, y in test_ds:\n",
    "    p = model.predict(x, verbose=1)\n",
    "    for i in range(len(p)):\n",
    "        predictions = np.concatenate([predictions, p[i]])\n",
    "    labels = np.concatenate([labels, y.numpy()])\n",
    "\n",
    "linear_model = np.polyfit(labels, predictions, 1)\n",
    "linear_model_fn = np.poly1d(linear_model)\n",
    "x_s = np.arange(4, 53)\n",
    "\n",
    "plt.figure(num=2, figsize=(10, 10))\n",
    "plt.title(\"Prediction Accuracy\")\n",
    "plt.plot(labels, predictions, 'o', markersize=3)\n",
    "plt.plot(x_s, linear_model_fn(x_s), color=\"red\")\n",
    "plt.xlabel(\"True label\")\n",
    "plt.ylabel(\"Predicted label\")\n",
    "plt.show()"
   ]
  },
  {
   "cell_type": "code",
   "execution_count": null,
   "id": "01dbd8d5",
   "metadata": {},
   "outputs": [],
   "source": [
    "errs = labels - predictions\n",
    "\n",
    "plt.figure(num=4, figsize=(10, 10))\n",
    "plt.title(\"Prediction Errors\")\n",
    "plt.hist(errs, bins=100)\n",
    "plt.xlabel(\"Prediction Error\")\n",
    "plt.ylabel(\"Frequency\")\n",
    "plt.show()"
   ]
  },
  {
   "cell_type": "code",
   "execution_count": null,
   "id": "1fb81b49",
   "metadata": {},
   "outputs": [],
   "source": []
  }
 ],
 "metadata": {
  "kernelspec": {
   "display_name": "Python 3 (ipykernel)",
   "language": "python",
   "name": "python3"
  },
  "language_info": {
   "codemirror_mode": {
    "name": "ipython",
    "version": 3
   },
   "file_extension": ".py",
   "mimetype": "text/x-python",
   "name": "python",
   "nbconvert_exporter": "python",
   "pygments_lexer": "ipython3",
   "version": "3.8.10"
  }
 },
 "nbformat": 4,
 "nbformat_minor": 5
}
